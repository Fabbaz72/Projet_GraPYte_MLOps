{
  "cells": [
    {
      "cell_type": "markdown",
      "metadata": {
        "id": "view-in-github",
        "colab_type": "text"
      },
      "source": [
        "<a href=\"https://colab.research.google.com/github/Fabbaz72/Projet_GraPYte_MLOps/blob/main/Codes_GraPYte_ML_Ops_VL.ipynb\" target=\"_parent\"><img src=\"https://colab.research.google.com/assets/colab-badge.svg\" alt=\"Open In Colab\"/></a>"
      ]
    },
    {
      "cell_type": "markdown",
      "id": "2e1bf383",
      "metadata": {
        "id": "2e1bf383"
      },
      "source": [
        "# IMPORTATION DES DONNEES ET MERGE"
      ]
    },
    {
      "cell_type": "code",
      "execution_count": null,
      "id": "1c2555f6",
      "metadata": {
        "id": "1c2555f6"
      },
      "outputs": [],
      "source": [
        "#Import de toutes les librairies nécessaires\n",
        "\n",
        "import pandas as pd\n",
        "import numpy as np\n",
        "import xgboost as xgb\n",
        "import seaborn as sns\n",
        "import matplotlib.pyplot as plt\n",
        "%matplotlib inline\n",
        "\n",
        "from sklearn.feature_selection import SelectKBest, f_classif, SelectFromModel\n",
        "from sklearn.linear_model import SGDClassifier \n",
        "from sklearn.ensemble import GradientBoostingClassifier\n",
        "from sklearn.model_selection import train_test_split\n",
        "from sklearn import metrics\n",
        "\n",
        "from collections import Counter\n",
        "from xgboost import plot_importance\n",
        "from matplotlib import pyplot\n"
      ]
    },
    {
      "cell_type": "code",
      "execution_count": null,
      "id": "OsVFOqvPMMuj",
      "metadata": {
        "colab": {
          "base_uri": "https://localhost:8080/"
        },
        "id": "OsVFOqvPMMuj",
        "outputId": "e3efcaa8-bd6c-4a0e-e2b4-99911c2f2431"
      },
      "outputs": [
        {
          "output_type": "stream",
          "name": "stdout",
          "text": [
            "Drive already mounted at /content/drive; to attempt to forcibly remount, call drive.mount(\"/content/drive\", force_remount=True).\n"
          ]
        }
      ],
      "source": [
        "from google.colab import drive\n",
        "drive.mount('/content/drive')"
      ]
    },
    {
      "cell_type": "code",
      "execution_count": null,
      "id": "74b6a1f2",
      "metadata": {
        "colab": {
          "base_uri": "https://localhost:8080/",
          "height": 398
        },
        "id": "74b6a1f2",
        "outputId": "117f4db5-0b4c-4f61-daad-0d9d1c7bb34c"
      },
      "outputs": [
        {
          "output_type": "error",
          "ename": "FileNotFoundError",
          "evalue": "ignored",
          "traceback": [
            "\u001b[0;31m---------------------------------------------------------------------------\u001b[0m",
            "\u001b[0;31mFileNotFoundError\u001b[0m                         Traceback (most recent call last)",
            "\u001b[0;32m<ipython-input-10-3fac3702d25a>\u001b[0m in \u001b[0;36m<module>\u001b[0;34m\u001b[0m\n\u001b[1;32m      1\u001b[0m \u001b[0;31m#Création des DF\u001b[0m\u001b[0;34m\u001b[0m\u001b[0;34m\u001b[0m\u001b[0;34m\u001b[0m\u001b[0m\n\u001b[0;32m----> 2\u001b[0;31m \u001b[0mdf_users\u001b[0m\u001b[0;34m=\u001b[0m\u001b[0mpd\u001b[0m\u001b[0;34m.\u001b[0m\u001b[0mread_csv\u001b[0m\u001b[0;34m(\u001b[0m\u001b[0;34m\"users.csv\"\u001b[0m\u001b[0;34m)\u001b[0m\u001b[0;34m\u001b[0m\u001b[0;34m\u001b[0m\u001b[0m\n\u001b[0m\u001b[1;32m      3\u001b[0m \u001b[0mdf_places\u001b[0m\u001b[0;34m=\u001b[0m\u001b[0mpd\u001b[0m\u001b[0;34m.\u001b[0m\u001b[0mread_csv\u001b[0m\u001b[0;34m(\u001b[0m\u001b[0;34m\"places.csv\"\u001b[0m\u001b[0;34m,\u001b[0m\u001b[0mlow_memory\u001b[0m\u001b[0;34m=\u001b[0m\u001b[0;32mFalse\u001b[0m\u001b[0;34m)\u001b[0m\u001b[0;34m\u001b[0m\u001b[0;34m\u001b[0m\u001b[0m\n\u001b[1;32m      4\u001b[0m \u001b[0mdf_caract\u001b[0m\u001b[0;34m=\u001b[0m\u001b[0mpd\u001b[0m\u001b[0;34m.\u001b[0m\u001b[0mread_csv\u001b[0m\u001b[0;34m(\u001b[0m\u001b[0;34m\"caracteristics.csv\"\u001b[0m\u001b[0;34m,\u001b[0m\u001b[0mencoding\u001b[0m\u001b[0;34m=\u001b[0m\u001b[0;34m'ISO-8859-1'\u001b[0m\u001b[0;34m,\u001b[0m\u001b[0mlow_memory\u001b[0m\u001b[0;34m=\u001b[0m\u001b[0;32mFalse\u001b[0m\u001b[0;34m)\u001b[0m\u001b[0;34m\u001b[0m\u001b[0;34m\u001b[0m\u001b[0m\n\u001b[1;32m      5\u001b[0m \u001b[0mdf_veh\u001b[0m\u001b[0;34m=\u001b[0m\u001b[0mpd\u001b[0m\u001b[0;34m.\u001b[0m\u001b[0mread_csv\u001b[0m\u001b[0;34m(\u001b[0m\u001b[0;34m\"vehicles.csv\"\u001b[0m\u001b[0;34m)\u001b[0m\u001b[0;34m\u001b[0m\u001b[0;34m\u001b[0m\u001b[0m\n",
            "\u001b[0;32m/usr/local/lib/python3.8/dist-packages/pandas/util/_decorators.py\u001b[0m in \u001b[0;36mwrapper\u001b[0;34m(*args, **kwargs)\u001b[0m\n\u001b[1;32m    309\u001b[0m                     \u001b[0mstacklevel\u001b[0m\u001b[0;34m=\u001b[0m\u001b[0mstacklevel\u001b[0m\u001b[0;34m,\u001b[0m\u001b[0;34m\u001b[0m\u001b[0;34m\u001b[0m\u001b[0m\n\u001b[1;32m    310\u001b[0m                 )\n\u001b[0;32m--> 311\u001b[0;31m             \u001b[0;32mreturn\u001b[0m \u001b[0mfunc\u001b[0m\u001b[0;34m(\u001b[0m\u001b[0;34m*\u001b[0m\u001b[0margs\u001b[0m\u001b[0;34m,\u001b[0m \u001b[0;34m**\u001b[0m\u001b[0mkwargs\u001b[0m\u001b[0;34m)\u001b[0m\u001b[0;34m\u001b[0m\u001b[0;34m\u001b[0m\u001b[0m\n\u001b[0m\u001b[1;32m    312\u001b[0m \u001b[0;34m\u001b[0m\u001b[0m\n\u001b[1;32m    313\u001b[0m         \u001b[0;32mreturn\u001b[0m \u001b[0mwrapper\u001b[0m\u001b[0;34m\u001b[0m\u001b[0;34m\u001b[0m\u001b[0m\n",
            "\u001b[0;32m/usr/local/lib/python3.8/dist-packages/pandas/io/parsers/readers.py\u001b[0m in \u001b[0;36mread_csv\u001b[0;34m(filepath_or_buffer, sep, delimiter, header, names, index_col, usecols, squeeze, prefix, mangle_dupe_cols, dtype, engine, converters, true_values, false_values, skipinitialspace, skiprows, skipfooter, nrows, na_values, keep_default_na, na_filter, verbose, skip_blank_lines, parse_dates, infer_datetime_format, keep_date_col, date_parser, dayfirst, cache_dates, iterator, chunksize, compression, thousands, decimal, lineterminator, quotechar, quoting, doublequote, escapechar, comment, encoding, encoding_errors, dialect, error_bad_lines, warn_bad_lines, on_bad_lines, delim_whitespace, low_memory, memory_map, float_precision, storage_options)\u001b[0m\n\u001b[1;32m    584\u001b[0m     \u001b[0mkwds\u001b[0m\u001b[0;34m.\u001b[0m\u001b[0mupdate\u001b[0m\u001b[0;34m(\u001b[0m\u001b[0mkwds_defaults\u001b[0m\u001b[0;34m)\u001b[0m\u001b[0;34m\u001b[0m\u001b[0;34m\u001b[0m\u001b[0m\n\u001b[1;32m    585\u001b[0m \u001b[0;34m\u001b[0m\u001b[0m\n\u001b[0;32m--> 586\u001b[0;31m     \u001b[0;32mreturn\u001b[0m \u001b[0m_read\u001b[0m\u001b[0;34m(\u001b[0m\u001b[0mfilepath_or_buffer\u001b[0m\u001b[0;34m,\u001b[0m \u001b[0mkwds\u001b[0m\u001b[0;34m)\u001b[0m\u001b[0;34m\u001b[0m\u001b[0;34m\u001b[0m\u001b[0m\n\u001b[0m\u001b[1;32m    587\u001b[0m \u001b[0;34m\u001b[0m\u001b[0m\n\u001b[1;32m    588\u001b[0m \u001b[0;34m\u001b[0m\u001b[0m\n",
            "\u001b[0;32m/usr/local/lib/python3.8/dist-packages/pandas/io/parsers/readers.py\u001b[0m in \u001b[0;36m_read\u001b[0;34m(filepath_or_buffer, kwds)\u001b[0m\n\u001b[1;32m    480\u001b[0m \u001b[0;34m\u001b[0m\u001b[0m\n\u001b[1;32m    481\u001b[0m     \u001b[0;31m# Create the parser.\u001b[0m\u001b[0;34m\u001b[0m\u001b[0;34m\u001b[0m\u001b[0;34m\u001b[0m\u001b[0m\n\u001b[0;32m--> 482\u001b[0;31m     \u001b[0mparser\u001b[0m \u001b[0;34m=\u001b[0m \u001b[0mTextFileReader\u001b[0m\u001b[0;34m(\u001b[0m\u001b[0mfilepath_or_buffer\u001b[0m\u001b[0;34m,\u001b[0m \u001b[0;34m**\u001b[0m\u001b[0mkwds\u001b[0m\u001b[0;34m)\u001b[0m\u001b[0;34m\u001b[0m\u001b[0;34m\u001b[0m\u001b[0m\n\u001b[0m\u001b[1;32m    483\u001b[0m \u001b[0;34m\u001b[0m\u001b[0m\n\u001b[1;32m    484\u001b[0m     \u001b[0;32mif\u001b[0m \u001b[0mchunksize\u001b[0m \u001b[0;32mor\u001b[0m \u001b[0miterator\u001b[0m\u001b[0;34m:\u001b[0m\u001b[0;34m\u001b[0m\u001b[0;34m\u001b[0m\u001b[0m\n",
            "\u001b[0;32m/usr/local/lib/python3.8/dist-packages/pandas/io/parsers/readers.py\u001b[0m in \u001b[0;36m__init__\u001b[0;34m(self, f, engine, **kwds)\u001b[0m\n\u001b[1;32m    809\u001b[0m             \u001b[0mself\u001b[0m\u001b[0;34m.\u001b[0m\u001b[0moptions\u001b[0m\u001b[0;34m[\u001b[0m\u001b[0;34m\"has_index_names\"\u001b[0m\u001b[0;34m]\u001b[0m \u001b[0;34m=\u001b[0m \u001b[0mkwds\u001b[0m\u001b[0;34m[\u001b[0m\u001b[0;34m\"has_index_names\"\u001b[0m\u001b[0;34m]\u001b[0m\u001b[0;34m\u001b[0m\u001b[0;34m\u001b[0m\u001b[0m\n\u001b[1;32m    810\u001b[0m \u001b[0;34m\u001b[0m\u001b[0m\n\u001b[0;32m--> 811\u001b[0;31m         \u001b[0mself\u001b[0m\u001b[0;34m.\u001b[0m\u001b[0m_engine\u001b[0m \u001b[0;34m=\u001b[0m \u001b[0mself\u001b[0m\u001b[0;34m.\u001b[0m\u001b[0m_make_engine\u001b[0m\u001b[0;34m(\u001b[0m\u001b[0mself\u001b[0m\u001b[0;34m.\u001b[0m\u001b[0mengine\u001b[0m\u001b[0;34m)\u001b[0m\u001b[0;34m\u001b[0m\u001b[0;34m\u001b[0m\u001b[0m\n\u001b[0m\u001b[1;32m    812\u001b[0m \u001b[0;34m\u001b[0m\u001b[0m\n\u001b[1;32m    813\u001b[0m     \u001b[0;32mdef\u001b[0m \u001b[0mclose\u001b[0m\u001b[0;34m(\u001b[0m\u001b[0mself\u001b[0m\u001b[0;34m)\u001b[0m\u001b[0;34m:\u001b[0m\u001b[0;34m\u001b[0m\u001b[0;34m\u001b[0m\u001b[0m\n",
            "\u001b[0;32m/usr/local/lib/python3.8/dist-packages/pandas/io/parsers/readers.py\u001b[0m in \u001b[0;36m_make_engine\u001b[0;34m(self, engine)\u001b[0m\n\u001b[1;32m   1038\u001b[0m             )\n\u001b[1;32m   1039\u001b[0m         \u001b[0;31m# error: Too many arguments for \"ParserBase\"\u001b[0m\u001b[0;34m\u001b[0m\u001b[0;34m\u001b[0m\u001b[0;34m\u001b[0m\u001b[0m\n\u001b[0;32m-> 1040\u001b[0;31m         \u001b[0;32mreturn\u001b[0m \u001b[0mmapping\u001b[0m\u001b[0;34m[\u001b[0m\u001b[0mengine\u001b[0m\u001b[0;34m]\u001b[0m\u001b[0;34m(\u001b[0m\u001b[0mself\u001b[0m\u001b[0;34m.\u001b[0m\u001b[0mf\u001b[0m\u001b[0;34m,\u001b[0m \u001b[0;34m**\u001b[0m\u001b[0mself\u001b[0m\u001b[0;34m.\u001b[0m\u001b[0moptions\u001b[0m\u001b[0;34m)\u001b[0m  \u001b[0;31m# type: ignore[call-arg]\u001b[0m\u001b[0;34m\u001b[0m\u001b[0;34m\u001b[0m\u001b[0m\n\u001b[0m\u001b[1;32m   1041\u001b[0m \u001b[0;34m\u001b[0m\u001b[0m\n\u001b[1;32m   1042\u001b[0m     \u001b[0;32mdef\u001b[0m \u001b[0m_failover_to_python\u001b[0m\u001b[0;34m(\u001b[0m\u001b[0mself\u001b[0m\u001b[0;34m)\u001b[0m\u001b[0;34m:\u001b[0m\u001b[0;34m\u001b[0m\u001b[0;34m\u001b[0m\u001b[0m\n",
            "\u001b[0;32m/usr/local/lib/python3.8/dist-packages/pandas/io/parsers/c_parser_wrapper.py\u001b[0m in \u001b[0;36m__init__\u001b[0;34m(self, src, **kwds)\u001b[0m\n\u001b[1;32m     49\u001b[0m \u001b[0;34m\u001b[0m\u001b[0m\n\u001b[1;32m     50\u001b[0m         \u001b[0;31m# open handles\u001b[0m\u001b[0;34m\u001b[0m\u001b[0;34m\u001b[0m\u001b[0;34m\u001b[0m\u001b[0m\n\u001b[0;32m---> 51\u001b[0;31m         \u001b[0mself\u001b[0m\u001b[0;34m.\u001b[0m\u001b[0m_open_handles\u001b[0m\u001b[0;34m(\u001b[0m\u001b[0msrc\u001b[0m\u001b[0;34m,\u001b[0m \u001b[0mkwds\u001b[0m\u001b[0;34m)\u001b[0m\u001b[0;34m\u001b[0m\u001b[0;34m\u001b[0m\u001b[0m\n\u001b[0m\u001b[1;32m     52\u001b[0m         \u001b[0;32massert\u001b[0m \u001b[0mself\u001b[0m\u001b[0;34m.\u001b[0m\u001b[0mhandles\u001b[0m \u001b[0;32mis\u001b[0m \u001b[0;32mnot\u001b[0m \u001b[0;32mNone\u001b[0m\u001b[0;34m\u001b[0m\u001b[0;34m\u001b[0m\u001b[0m\n\u001b[1;32m     53\u001b[0m \u001b[0;34m\u001b[0m\u001b[0m\n",
            "\u001b[0;32m/usr/local/lib/python3.8/dist-packages/pandas/io/parsers/base_parser.py\u001b[0m in \u001b[0;36m_open_handles\u001b[0;34m(self, src, kwds)\u001b[0m\n\u001b[1;32m    220\u001b[0m         \u001b[0mLet\u001b[0m \u001b[0mthe\u001b[0m \u001b[0mreaders\u001b[0m \u001b[0mopen\u001b[0m \u001b[0mIOHandles\u001b[0m \u001b[0mafter\u001b[0m \u001b[0mthey\u001b[0m \u001b[0mare\u001b[0m \u001b[0mdone\u001b[0m \u001b[0;32mwith\u001b[0m \u001b[0mtheir\u001b[0m \u001b[0mpotential\u001b[0m \u001b[0mraises\u001b[0m\u001b[0;34m.\u001b[0m\u001b[0;34m\u001b[0m\u001b[0;34m\u001b[0m\u001b[0m\n\u001b[1;32m    221\u001b[0m         \"\"\"\n\u001b[0;32m--> 222\u001b[0;31m         self.handles = get_handle(\n\u001b[0m\u001b[1;32m    223\u001b[0m             \u001b[0msrc\u001b[0m\u001b[0;34m,\u001b[0m\u001b[0;34m\u001b[0m\u001b[0;34m\u001b[0m\u001b[0m\n\u001b[1;32m    224\u001b[0m             \u001b[0;34m\"r\"\u001b[0m\u001b[0;34m,\u001b[0m\u001b[0;34m\u001b[0m\u001b[0;34m\u001b[0m\u001b[0m\n",
            "\u001b[0;32m/usr/local/lib/python3.8/dist-packages/pandas/io/common.py\u001b[0m in \u001b[0;36mget_handle\u001b[0;34m(path_or_buf, mode, encoding, compression, memory_map, is_text, errors, storage_options)\u001b[0m\n\u001b[1;32m    700\u001b[0m         \u001b[0;32mif\u001b[0m \u001b[0mioargs\u001b[0m\u001b[0;34m.\u001b[0m\u001b[0mencoding\u001b[0m \u001b[0;32mand\u001b[0m \u001b[0;34m\"b\"\u001b[0m \u001b[0;32mnot\u001b[0m \u001b[0;32min\u001b[0m \u001b[0mioargs\u001b[0m\u001b[0;34m.\u001b[0m\u001b[0mmode\u001b[0m\u001b[0;34m:\u001b[0m\u001b[0;34m\u001b[0m\u001b[0;34m\u001b[0m\u001b[0m\n\u001b[1;32m    701\u001b[0m             \u001b[0;31m# Encoding\u001b[0m\u001b[0;34m\u001b[0m\u001b[0;34m\u001b[0m\u001b[0;34m\u001b[0m\u001b[0m\n\u001b[0;32m--> 702\u001b[0;31m             handle = open(\n\u001b[0m\u001b[1;32m    703\u001b[0m                 \u001b[0mhandle\u001b[0m\u001b[0;34m,\u001b[0m\u001b[0;34m\u001b[0m\u001b[0;34m\u001b[0m\u001b[0m\n\u001b[1;32m    704\u001b[0m                 \u001b[0mioargs\u001b[0m\u001b[0;34m.\u001b[0m\u001b[0mmode\u001b[0m\u001b[0;34m,\u001b[0m\u001b[0;34m\u001b[0m\u001b[0;34m\u001b[0m\u001b[0m\n",
            "\u001b[0;31mFileNotFoundError\u001b[0m: [Errno 2] No such file or directory: 'users.csv'"
          ]
        }
      ],
      "source": [
        "#Création des DF\n",
        "df_users=pd.read_csv(\"users.csv\")\n",
        "df_places=pd.read_csv(\"places.csv\",low_memory=False)\n",
        "df_caract=pd.read_csv(\"caracteristics.csv\",encoding='ISO-8859-1',low_memory=False)\n",
        "df_veh=pd.read_csv(\"vehicles.csv\")"
      ]
    },
    {
      "cell_type": "code",
      "execution_count": null,
      "id": "eead2b1c",
      "metadata": {
        "id": "eead2b1c"
      },
      "outputs": [],
      "source": [
        "#Merge des données\n",
        "\n",
        "df_projet_brut=pd.merge(df_users, df_veh, how='left', on=[\"Num_Acc\", \"num_veh\"])\n",
        "df_projet_brut=pd.merge(df_projet_brut, df_caract, how='left', on=[\"Num_Acc\"])\n",
        "df_projet_brut=pd.merge(df_projet_brut, df_places, how='left', on=[\"Num_Acc\"])"
      ]
    },
    {
      "cell_type": "markdown",
      "id": "9dd935ea",
      "metadata": {
        "id": "9dd935ea"
      },
      "source": [
        "# PREPOCESSING & FEATURES SELECTION"
      ]
    },
    {
      "cell_type": "code",
      "execution_count": null,
      "id": "9c46a11f",
      "metadata": {
        "id": "9c46a11f"
      },
      "outputs": [],
      "source": [
        "#On nettoie le fichier df_projet_brut\n",
        "    #On supprime les variables gps, lat et long car il y a beaucoup de NaN et pas utile pour la gravité car variable de géolocalisation\n",
        "    #On supprime les variables voie, v1 et v2 car il y a beaucoup de NaN et pas utiles pour la gravité car des variables indiquant des numéros de rue comme la variable adr_car\n",
        "    #On supprime les variables pr et pr1 car beaucoup de NaN et pas utlies pour la gravité car des variables relative au lieu d'habitation.\n",
        "    #On supprime la variable infra car beaucoup de valeurs en 0 (valeurs non indiquées dans les définitions.\n",
        "    #On supprime la variable Num_Acc car ce n'est pas une variable explicative\n",
        "    #On supprume la variable com (Comummune) fortement correlée avec dep (departement) \n",
        "    #On supprume la variable nbv car beaucoup de catégories (53) et les informations que nous avons besons sont dans circ(type de route avec nb de voie)\n",
        "    #On supprime la variable senc (sens de circulation) énormement d'inconnu a + de 90%\n",
        "    #On suppriume la varibale place (place dans le vehicule) car la variable catu donne deja le type de user a savoir, conducteur, passager\n",
        "\n",
        "to_drop=['gps','lat','long','voie','v1','v2','adr','pr','pr1','infra','Num_Acc','com', 'nbv','senc','place']\n",
        "df_projet_brut_2=df_projet_brut.drop(to_drop,axis=1)"
      ]
    },
    {
      "cell_type": "code",
      "execution_count": null,
      "id": "725e994e",
      "metadata": {
        "id": "725e994e",
        "scrolled": true
      },
      "outputs": [],
      "source": [
        "# Retraitement Variables:\n",
        "\n",
        "# catv (99 catégories) on retraire en: vehicule 2 roues, vehicule non carrossé (hors 2 roues), \n",
        "# vehicule leger carrosé, vehicule leger carrosé avec attelage (remorque, caravanne), poids lourd et transport en commun.\n",
        "# 2 Roues,1,Commun,3,Inconnu,0,Poids Lourds,4,VL Attelage,5,VL Carrose,2,VL Non Carrose,6,\n",
        "\n",
        "#catv\n",
        "catv_value = [0,1,2,3,4,5,6,7,8,9,10,11,12,13,14,15,16,17,18,19,20,21,30,31,32,33,34,35,36,37,38,39,40,41,42,43,50,60,80,99]\n",
        "catv_value_new = [0,1,1,2,1,1,6,2,5,5,5,5,5,4,4,4,4,4,3,3,4,4,1,1,1,1,1,6,6,3,3,3,3,1,1,1,1,1,0,0]\n",
        "df_projet_brut_2['catv'].replace(catv_value, catv_value_new, inplace = True)\n",
        "\n",
        "\n",
        "# plan = type de voie (rectiligne ou type de courbes), je propose de faire 0 rectiligne 1 courbe\n",
        "\n",
        "#plan\n",
        "plan_value = [1,2,3,4]\n",
        "plan_value_new = [0,1,1,1]\n",
        "df_projet_brut_2['plan'].replace(plan_value, plan_value_new, inplace = True)\n",
        "\n",
        "# Retraitement secu. Le code secu appliqué dans les données de Kaggle a peu de sens\n",
        "# On crée danc une nlle va secu indiquant si existance d'un materiel de securité et utilisé (casque, ceinture de secu, etc)\n",
        "\n",
        "# Valeurs actuelles\n",
        "secu_value = df_projet_brut_2['secu'].value_counts().index.tolist()\n",
        "\n",
        "# Nlle valeur indique si utilisation d'un element de scurité (0) sinon (1) (1 integre la non connaissance et nan)\n",
        "secu_new = [0, 0, 1,1,1,1,1,1,0,0,1,1,0,0,1,1,1,1,1,1,1,1,1,1]\n",
        "\n",
        "#Nlle colonne new_secu\n",
        "\n",
        "df_projet_brut_2['New_secu'] = df_projet_brut_2['secu']\n",
        "\n",
        "df_projet_brut_2['New_secu'].replace(secu_value, secu_new, inplace = True)\n",
        "df_projet_brut_2 = df_projet_brut_2.drop('secu', axis = 1)\n",
        "\n",
        "#Grav\n",
        "df_projet_brut_2['grav'].replace([1, 2, 3,4],[0, 1, 1, 0], inplace=True)\n"
      ]
    },
    {
      "cell_type": "code",
      "execution_count": null,
      "id": "9e06ac0a",
      "metadata": {
        "colab": {
          "base_uri": "https://localhost:8080/"
        },
        "id": "9e06ac0a",
        "outputId": "069f5abb-6517-4053-bbec-fcaaef4efaea",
        "scrolled": true
      },
      "outputs": [
        {
          "name": "stderr",
          "output_type": "stream",
          "text": [
            "/var/folders/_1/yttpv42s1936z_r_f3zkvchc0000gn/T/ipykernel_2380/1769733279.py:19: FutureWarning: In a future version of pandas all arguments of DataFrame.drop except for the argument 'labels' will be keyword-only.\n",
            "  feats=df_projet_brut_3.drop(['grav'],1)\n"
          ]
        }
      ],
      "source": [
        "# Travail sur les valeurs de la variable num_veh\n",
        "\n",
        "num_veh = df_projet_brut['num_veh'].value_counts(normalize = True)*100 #en dessous de la 5eme valeur on descend à une contribution de moins de 1%\n",
        "\n",
        "X_num=df_projet_brut_2.select_dtypes(include=['float64','int64'])\n",
        "X_cat=df_projet_brut_2.select_dtypes('object')\n",
        "X_cat=pd.get_dummies(X_cat)\n",
        "df_projet_brut_3=pd.concat([X_num,X_cat], axis=1)\n",
        "\n",
        "num_veh_to_drop = num_veh.tail(124).index\n",
        "append_str = 'num_veh_'\n",
        "num_veh_to_drop = [append_str + sub for sub in num_veh_to_drop]\n",
        "df_projet_brut_3 = df_projet_brut_3.drop(num_veh_to_drop, axis = 1)\n",
        "\n",
        "df_projet_brut_3 = df_projet_brut_3.dropna(axis = 1, how='all')\n",
        "df_projet_brut_3 = df_projet_brut_3.dropna(axis = 0, how='any')\n",
        "\n",
        "target=df_projet_brut_3['grav']\n",
        "feats=df_projet_brut_3.drop(['grav'],1)\n"
      ]
    },
    {
      "cell_type": "code",
      "execution_count": null,
      "id": "8fd146a3",
      "metadata": {
        "colab": {
          "base_uri": "https://localhost:8080/"
        },
        "id": "8fd146a3",
        "outputId": "ca0ff2d9-e41c-4a96-b404-37522d38293a"
      },
      "outputs": [
        {
          "name": "stdout",
          "output_type": "stream",
          "text": [
            "les 20 va les plus explicatives selectionnées sont: Index(['catu', 'locp', 'actp', 'etatp', 'catv', 'obs', 'obsm', 'agg', 'int',\n",
            "       'atm', 'col', 'dep', 'catr', 'plan', 'situ', 'New_secu', 'num_veh_A01',\n",
            "       'num_veh_B01', 'num_veh_B02', 'num_veh_C01'],\n",
            "      dtype='object')\n"
          ]
        }
      ],
      "source": [
        "select = SelectKBest(f_classif, k= 20)\n",
        "\n",
        "# ici l'idée n'est pas de faire un train et test mais de capturer les features les plus contingentes à la target\n",
        "# Donc on prends le dataset complet avec la target dualisée (Grave vs Pas grave)\n",
        "\n",
        "select.fit_transform(feats, target)\n",
        "\n",
        "feats_KBest = feats.columns[select.get_support()]\n",
        "print(\"les 20 va les plus explicatives selectionnées sont:\", feats.columns[select.get_support()])"
      ]
    },
    {
      "cell_type": "code",
      "execution_count": null,
      "id": "9a1c5c8a",
      "metadata": {
        "colab": {
          "base_uri": "https://localhost:8080/"
        },
        "id": "9a1c5c8a",
        "outputId": "7fab5dce-2c76-401f-e1f7-eeb026331c03"
      },
      "outputs": [
        {
          "name": "stderr",
          "output_type": "stream",
          "text": [
            "/Users/fabricebazinimac/opt/anaconda3/lib/python3.9/site-packages/sklearn/linear_model/_stochastic_gradient.py:696: ConvergenceWarning: Maximum number of iteration reached before convergence. Consider increasing max_iter to improve the fit.\n",
            "  warnings.warn(\n"
          ]
        },
        {
          "name": "stdout",
          "output_type": "stream",
          "text": [
            "les va les plus explicatives selectionnées sont: Index(['catu', 'sexe', 'etatp', 'catv', 'agg', 'plan', 'situ', 'New_secu',\n",
            "       'num_veh_A01', 'num_veh_B02', 'num_veh_C01'],\n",
            "      dtype='object')\n"
          ]
        }
      ],
      "source": [
        "# Selection des best features selon SelectFromModel\n",
        "\n",
        "selector_mean = SelectFromModel(SGDClassifier(random_state = 0), threshold = 'mean')\n",
        "\n",
        "selector_mean.fit_transform(feats, target)\n",
        "\n",
        "feats_sgdc_mean = feats.columns[selector_mean.get_support()]\n",
        "print(\"les va les plus explicatives selectionnées sont:\", feats.columns[selector_mean.get_support()])"
      ]
    },
    {
      "cell_type": "code",
      "execution_count": null,
      "id": "9c3d9a09",
      "metadata": {
        "id": "9c3d9a09",
        "outputId": "f1da2647-7ae2-4996-fa3f-7937ba5b1dd3"
      },
      "outputs": [
        {
          "name": "stderr",
          "output_type": "stream",
          "text": [
            "/Users/fabricebazinimac/opt/anaconda3/lib/python3.9/site-packages/sklearn/linear_model/_stochastic_gradient.py:696: ConvergenceWarning: Maximum number of iteration reached before convergence. Consider increasing max_iter to improve the fit.\n",
            "  warnings.warn(\n"
          ]
        },
        {
          "name": "stdout",
          "output_type": "stream",
          "text": [
            "les va les plus explicatives selectionnées par mediane sont: Index(['catu', 'sexe', 'locp', 'actp', 'etatp', 'catv', 'obs', 'obsm', 'agg',\n",
            "       'col', 'circ', 'vosp', 'plan', 'situ', 'New_secu', 'num_veh_A01',\n",
            "       'num_veh_B01', 'num_veh_B02', 'num_veh_C01', 'num_veh_C03'],\n",
            "      dtype='object')\n"
          ]
        }
      ],
      "source": [
        "# Selection des best features par la mediane pour des va catégorielles\n",
        "\n",
        "selector_median = SelectFromModel(SGDClassifier(random_state = 0), threshold = 'median')\n",
        "\n",
        "selector_median.fit_transform(feats, target)\n",
        "\n",
        "feats_sgdc_med = feats.columns[selector_median.get_support()]\n",
        "print(\"les va les plus explicatives selectionnées par mediane sont:\", feats.columns[selector_median.get_support()])\n",
        "\n"
      ]
    },
    {
      "cell_type": "code",
      "execution_count": null,
      "id": "9955f513",
      "metadata": {
        "id": "9955f513",
        "outputId": "52343031-290d-4205-9bfa-be1df0abee75"
      },
      "outputs": [
        {
          "name": "stdout",
          "output_type": "stream",
          "text": [
            "les va les plus explicatives selectionnées par GBC sont: Index(['catu', 'catv', 'obs', 'agg', 'col', 'dep', 'catr', 'num_veh_B02'], dtype='object')\n"
          ]
        }
      ],
      "source": [
        "# Utilisation d'un modele de Gradient Boosting (particulièrement adapté aux va cat par tree decision) avec New_secu\n",
        "\n",
        "#n_estimators=20, learning_rate=learning_rate, max_features=2, max_depth=2, random_state=0\n",
        "gb_clf = SelectFromModel(GradientBoostingClassifier())\n",
        "gb_clf.fit_transform(feats, target)\n",
        "\n",
        "feats_gbc = feats.columns[gb_clf.get_support()]\n",
        "print(\"les va les plus explicatives selectionnées par GBC sont:\", feats.columns[gb_clf.get_support()])"
      ]
    },
    {
      "cell_type": "code",
      "execution_count": null,
      "id": "f2195a15",
      "metadata": {
        "id": "f2195a15",
        "outputId": "23c7dfda-0549-490f-ddcf-d9192fdc6ad7"
      },
      "outputs": [
        {
          "name": "stdout",
          "output_type": "stream",
          "text": [
            "dict_keys(['catu', 'locp', 'actp', 'etatp', 'catv', 'obs', 'obsm', 'agg', 'int', 'atm', 'col', 'dep', 'catr', 'plan', 'situ', 'New_secu', 'num_veh_A01', 'num_veh_B01', 'num_veh_B02', 'num_veh_C01', 'sexe', 'circ', 'vosp', 'num_veh_C03'])\n"
          ]
        }
      ],
      "source": [
        "# Feature Selection : On crée un DF ne contenant que les features selectionnées precedemment\n",
        "\n",
        "keep_feats0 = feats_KBest.append(feats_sgdc_mean)\n",
        "keep_feats1 = keep_feats0.append(feats_sgdc_med)\n",
        "keep_feats = keep_feats1.append(feats_gbc)\n",
        "\n",
        "keep_feats = Counter(keep_feats).keys()\n",
        "\n",
        "print(keep_feats)\n",
        "\n",
        "feats_select = feats[keep_feats]"
      ]
    },
    {
      "cell_type": "code",
      "execution_count": null,
      "id": "dc9860d0",
      "metadata": {
        "id": "dc9860d0"
      },
      "outputs": [],
      "source": [
        "# Création des jeux d'entrainement et de test\n",
        "\n",
        "X_train_select, X_test_select, y_train_select, y_test_select = train_test_split(feats_select, target, test_size=0.20, random_state=1234)\n",
        "\n"
      ]
    },
    {
      "cell_type": "markdown",
      "id": "2d232b9c",
      "metadata": {
        "id": "2d232b9c"
      },
      "source": [
        "# XGBoost"
      ]
    },
    {
      "cell_type": "code",
      "execution_count": null,
      "id": "2c037bf2",
      "metadata": {
        "id": "2c037bf2"
      },
      "outputs": [],
      "source": [
        "#Ce code a mis 161 min à calculer\n",
        "\n",
        "#Détermination des meilleurs paramètres pour XGboost\n",
        "\n",
        "# PARAMETERS = {\"subsample\":[0.5, 0.75, 1],\"colsample_bytree\":[0.5, 0.75, 1],\n",
        "#             \"max_depth\":[2, 6, 12], \"learning_rate\":[0.3, 0.1, 0.03], \"n_estimators\":[100]}\n",
        "\n",
        "\n",
        "# model = xgb.XGBClassifier(n_estimators=100, n_jobs=-1)\n",
        "# model_gs = GridSearchCV(model,param_grid=PARAMETERS,cv=3,scoring=\"accuracy\")\n",
        "# model_gs.fit(X_train,y_train)\n",
        "\n",
        "# print(model_gs.best_params_)"
      ]
    },
    {
      "cell_type": "code",
      "execution_count": null,
      "id": "1882f1ec",
      "metadata": {
        "id": "1882f1ec"
      },
      "outputs": [],
      "source": [
        "#Entrainement et prédiction avec les paramètres optimaux déterminés précédemment\n",
        "\n",
        "xg_reg = xgb.XGBClassifier(colsample_bytree= 0.5,\n",
        "                        learning_rate= 0.1,\n",
        "                        max_depth= 12,\n",
        "                        n_estimators= 100,\n",
        "                        subsample= 1)"
      ]
    },
    {
      "cell_type": "code",
      "execution_count": null,
      "id": "cd46f5b4",
      "metadata": {
        "id": "cd46f5b4"
      },
      "outputs": [],
      "source": [
        "# Entrainement du modèle et prédiction\n",
        "xg_reg.fit(X_train_select,y_train_select)\n",
        "\n",
        "pred_values = xg_reg.predict(X_test_select)"
      ]
    },
    {
      "cell_type": "code",
      "execution_count": null,
      "id": "F-ilFqu13jfz",
      "metadata": {
        "colab": {
          "base_uri": "https://localhost:8080/"
        },
        "id": "F-ilFqu13jfz",
        "outputId": "6b126c0d-9ed5-4acb-e329-6b2752d474dc"
      },
      "outputs": [
        {
          "name": "stdout",
          "output_type": "stream",
          "text": [
            "              precision    recall  f1-score   support\n",
            "\n",
            "           0       0.85      0.94      0.89    277548\n",
            "           1       0.68      0.44      0.54     83883\n",
            "\n",
            "    accuracy                           0.82    361431\n",
            "   macro avg       0.77      0.69      0.71    361431\n",
            "weighted avg       0.81      0.82      0.81    361431\n",
            "\n"
          ]
        }
      ],
      "source": [
        "#Affichage du Classification Report\n",
        "\n",
        "print(metrics.classification_report(y_test_select, pred_values))"
      ]
    },
    {
      "cell_type": "code",
      "execution_count": null,
      "id": "0U_Db8f93wVi",
      "metadata": {
        "colab": {
          "base_uri": "https://localhost:8080/",
          "height": 143
        },
        "id": "0U_Db8f93wVi",
        "outputId": "1b325f5d-42b3-4663-c850-170ff8e89170"
      },
      "outputs": [
        {
          "data": {
            "text/html": [
              "<div>\n",
              "<style scoped>\n",
              "    .dataframe tbody tr th:only-of-type {\n",
              "        vertical-align: middle;\n",
              "    }\n",
              "\n",
              "    .dataframe tbody tr th {\n",
              "        vertical-align: top;\n",
              "    }\n",
              "\n",
              "    .dataframe thead th {\n",
              "        text-align: right;\n",
              "    }\n",
              "</style>\n",
              "<table border=\"1\" class=\"dataframe\">\n",
              "  <thead>\n",
              "    <tr style=\"text-align: right;\">\n",
              "      <th>Classe prédite</th>\n",
              "      <th>0</th>\n",
              "      <th>1</th>\n",
              "    </tr>\n",
              "    <tr>\n",
              "      <th>CLasse réelle</th>\n",
              "      <th></th>\n",
              "      <th></th>\n",
              "    </tr>\n",
              "  </thead>\n",
              "  <tbody>\n",
              "    <tr>\n",
              "      <th>0</th>\n",
              "      <td>260277</td>\n",
              "      <td>17271</td>\n",
              "    </tr>\n",
              "    <tr>\n",
              "      <th>1</th>\n",
              "      <td>46590</td>\n",
              "      <td>37293</td>\n",
              "    </tr>\n",
              "  </tbody>\n",
              "</table>\n",
              "</div>"
            ],
            "text/plain": [
              "Classe prédite       0      1\n",
              "CLasse réelle                \n",
              "0               260277  17271\n",
              "1                46590  37293"
            ]
          },
          "execution_count": 18,
          "metadata": {},
          "output_type": "execute_result"
        }
      ],
      "source": [
        "#Affichage de la Crosstab\n",
        "pd.crosstab(y_test_select, pred_values, rownames=['CLasse réelle'], colnames=['Classe prédite'])"
      ]
    },
    {
      "cell_type": "code",
      "execution_count": null,
      "id": "8718413d",
      "metadata": {
        "id": "8718413d"
      },
      "outputs": [],
      "source": []
    }
  ],
  "metadata": {
    "colab": {
      "collapsed_sections": [
        "9dd935ea"
      ],
      "provenance": [],
      "include_colab_link": true
    },
    "kernelspec": {
      "display_name": "Python 3 (ipykernel)",
      "language": "python",
      "name": "python3"
    },
    "language_info": {
      "codemirror_mode": {
        "name": "ipython",
        "version": 3
      },
      "file_extension": ".py",
      "mimetype": "text/x-python",
      "name": "python",
      "nbconvert_exporter": "python",
      "pygments_lexer": "ipython3",
      "version": "3.9.13"
    },
    "vscode": {
      "interpreter": {
        "hash": "aed800d063063c7af77c7af8cef4438f164825d10341a96de6401a588a8f81b7"
      }
    }
  },
  "nbformat": 4,
  "nbformat_minor": 5
}